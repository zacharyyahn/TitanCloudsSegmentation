{
 "cells": [
  {
   "cell_type": "code",
   "execution_count": null,
   "id": "0c7a1d1f-6def-4926-a3a0-179f88039c13",
   "metadata": {},
   "outputs": [],
   "source": [
    "import json\n",
    "import os\n",
    "import cv2\n",
    "import matplotlib.pyplot as plt\n",
    "import numpy as np\n",
    "import torch\n",
    "%matplotlib inline"
   ]
  },
  {
   "cell_type": "code",
   "execution_count": null,
   "id": "1574c4c3-23dd-46a3-a91e-f5b8471d720f",
   "metadata": {},
   "outputs": [],
   "source": [
    "def json_to_mask(json_name):\n",
    "    im = cv2.imread(\"Dataset/images/\"+json_name+\".png\")\n",
    "    print(im.shape)\n",
    "    f = open(\"Dataset/labels/\"+json_name+\".json\")\n",
    "    annotation = json.load(f)\n",
    "    masks = np.zeros((len(annotation[\"shapes\"]), im.shape[0], im.shape[1]))\n",
    "    for i in range(len(annotation[\"shapes\"])):\n",
    "        points = [[int(point[0]), int(point[1])] for point in annotation[\"shapes\"][i][\"points\"]]\n",
    "        points = np.array(points)\n",
    "        print(\"Points:\", points)\n",
    "        cv2.fillPoly(masks[i, :, :], pts=[points], color=((i + 1) * 10, 0, 0))\n",
    "        print(np.mean(masks[i]))\n",
    "        masks[i, :, :] = (masks[i, :, :] == (i + 1) * 10)\n",
    "    return torch.from_numpy(masks)\n",
    "\n",
    "#json_to_mask(\"N00271097\")\n",
    "        "
   ]
  },
  {
   "cell_type": "code",
   "execution_count": null,
   "id": "bb13b480-ff9c-4699-96c2-b51c0027a977",
   "metadata": {},
   "outputs": [],
   "source": [
    "masks = json_to_mask(\"N00271097\")\n",
    "plt.imshow(masks[0])\n",
    "\n",
    "bounding_boxes = torch.zeros((len(masks), 4), dtype=torch.float)\n",
    "print(torch.mean(masks[0]))\n",
    "\n",
    "for index, mask in enumerate(masks):\n",
    "    x, y = torch.where(mask != 0.0)\n",
    "    print(x.shape)\n",
    "    print(y.shape)\n",
    "\n",
    "    bounding_boxes[index, 0] = torch.min(x)\n",
    "    bounding_boxes[index, 1] = torch.min(y)\n",
    "    bounding_boxes[index, 2] = torch.max(x)\n",
    "    bounding_boxes[index, 3] = torch.max(y)\n",
    "\n",
    "print(bounding_boxes)"
   ]
  },
  {
   "cell_type": "code",
   "execution_count": null,
   "id": "a9c7d88e-aa75-46d4-bc2e-02ca4e9a1578",
   "metadata": {},
   "outputs": [],
   "source": [
    "#Now test the dataset\n",
    "from utils.params import Params\n",
    "import dataset\n",
    "\n",
    "transforms = None\n",
    "params = Params(\"hparams.yaml\", \"DEFAULT\")\n",
    "train_data = dataset.CloudsDataset(params, transforms=None, root=\"Dataset/\",  split=\"train\")\n"
   ]
  }
 ],
 "metadata": {
  "kernelspec": {
   "display_name": "Python 3 (ipykernel)",
   "language": "python",
   "name": "python3"
  },
  "language_info": {
   "codemirror_mode": {
    "name": "ipython",
    "version": 3
   },
   "file_extension": ".py",
   "mimetype": "text/x-python",
   "name": "python",
   "nbconvert_exporter": "python",
   "pygments_lexer": "ipython3",
   "version": "3.11.5"
  }
 },
 "nbformat": 4,
 "nbformat_minor": 5
}
