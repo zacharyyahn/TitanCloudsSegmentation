{
 "cells": [
  {
   "cell_type": "code",
   "execution_count": 7,
   "id": "0c7a1d1f-6def-4926-a3a0-179f88039c13",
   "metadata": {},
   "outputs": [],
   "source": [
    "import json\n",
    "import os\n",
    "import cv2\n",
    "import matplotlib.pyplot as plt\n",
    "import numpy as np\n",
    "import torch\n",
    "%matplotlib inline"
   ]
  },
  {
   "cell_type": "code",
   "execution_count": 43,
   "id": "1574c4c3-23dd-46a3-a91e-f5b8471d720f",
   "metadata": {},
   "outputs": [],
   "source": [
    "def json_to_mask(json_name):\n",
    "    im = cv2.imread(\"Dataset/images/\"+json_name+\".png\")\n",
    "    print(im.shape)\n",
    "    f = open(\"Dataset/labels/\"+json_name+\".json\")\n",
    "    annotation = json.load(f)\n",
    "    masks = np.zeros((len(annotation[\"shapes\"]), im.shape[0], im.shape[1]))\n",
    "    for i in range(len(annotation[\"shapes\"])):\n",
    "        points = [[int(point[0]), int(point[1])] for point in annotation[\"shapes\"][i][\"points\"]]\n",
    "        points = np.array(points)\n",
    "        print(\"Points:\", points)\n",
    "        cv2.fillPoly(masks[i, :, :], pts=[points], color=((i + 1) * 10, 0, 0))\n",
    "        print(np.mean(masks[i]))\n",
    "        masks[i, :, :] = (masks[i, :, :] == (i + 1) * 10)\n",
    "    return torch.from_numpy(masks)\n",
    "\n",
    "#json_to_mask(\"N00271097\")\n",
    "        "
   ]
  },
  {
   "cell_type": "code",
   "execution_count": 44,
   "id": "bb13b480-ff9c-4699-96c2-b51c0027a977",
   "metadata": {},
   "outputs": [
    {
     "name": "stdout",
     "output_type": "stream",
     "text": [
      "(1024, 1024, 3)\n",
      "Points: [[545 603]\n",
      " [559 597]\n",
      " [570 593]\n",
      " [578 589]\n",
      " [589 585]\n",
      " [598 590]\n",
      " [601 596]\n",
      " [595 596]\n",
      " [591 595]\n",
      " [589 596]\n",
      " [585 597]\n",
      " [584 601]\n",
      " [590 601]\n",
      " [597 600]\n",
      " [604 600]\n",
      " [610 603]\n",
      " [598 608]\n",
      " [589 612]\n",
      " [579 614]\n",
      " [570 614]\n",
      " [560 613]\n",
      " [552 610]]\n",
      "0.010404586791992188\n",
      "Points: [[526 642]\n",
      " [545 638]\n",
      " [554 634]\n",
      " [565 635]\n",
      " [571 637]\n",
      " [581 632]\n",
      " [593 629]\n",
      " [608 629]\n",
      " [594 634]\n",
      " [587 636]\n",
      " [578 639]\n",
      " [569 644]\n",
      " [560 643]\n",
      " [550 644]\n",
      " [542 645]\n",
      " [533 645]]\n",
      "0.0103759765625\n",
      "tensor(0.0010, dtype=torch.float64)\n",
      "torch.Size([1091])\n",
      "torch.Size([1091])\n",
      "torch.Size([544])\n",
      "torch.Size([544])\n",
      "tensor([[585., 545., 614., 610.],\n",
      "        [629., 526., 645., 608.]])\n"
     ]
    },
    {
     "data": {
      "image/png": "[encoded data removed]",
      "text/plain": [
       "<Figure size 640x480 with 1 Axes>"
      ]
     },
     "metadata": {},
     "output_type": "display_data"
    }
   ],
   "source": [
    "masks = json_to_mask(\"N00271097\")\n",
    "plt.imshow(masks[0])\n",
    "\n",
    "bounding_boxes = torch.zeros((len(masks), 4), dtype=torch.float)\n",
    "print(torch.mean(masks[0]))\n",
    "\n",
    "\n",
    "for index, mask in enumerate(masks):\n",
    "    x, y = torch.where(mask != 0.0)\n",
    "    print(x.shape)\n",
    "    print(y.shape)\n",
    "\n",
    "    bounding_boxes[index, 0] = torch.min(x)\n",
    "    bounding_boxes[index, 1] = torch.min(y)\n",
    "    bounding_boxes[index, 2] = torch.max(x)\n",
    "    bounding_boxes[index, 3] = torch.max(y)\n",
    "\n",
    "print(bounding_boxes)"
   ]
  },
  {
   "cell_type": "code",
   "execution_count": 2,
   "id": "a9c7d88e-aa75-46d4-bc2e-02ca4e9a1578",
   "metadata": {},
   "outputs": [
    {
     "ename": "ModuleNotFoundError",
     "evalue": "No module named 'utils.params'; 'utils' is not a package",
     "output_type": "error",
     "traceback": [
      "\u001b[1;31m---------------------------------------------------------------------------\u001b[0m",
      "\u001b[1;31mModuleNotFoundError\u001b[0m                       Traceback (most recent call last)",
      "Cell \u001b[1;32mIn[2], line 2\u001b[0m\n\u001b[0;32m      1\u001b[0m \u001b[38;5;66;03m#Now test the dataset\u001b[39;00m\n\u001b[1;32m----> 2\u001b[0m \u001b[38;5;28;01mfrom\u001b[39;00m \u001b[38;5;21;01mutils\u001b[39;00m\u001b[38;5;21;01m.\u001b[39;00m\u001b[38;5;21;01mparams\u001b[39;00m \u001b[38;5;28;01mimport\u001b[39;00m Params\n\u001b[0;32m      3\u001b[0m \u001b[38;5;28;01mimport\u001b[39;00m \u001b[38;5;21;01mdataset\u001b[39;00m\n\u001b[0;32m      5\u001b[0m transforms \u001b[38;5;241m=\u001b[39m \u001b[38;5;28;01mNone\u001b[39;00m\n",
      "\u001b[1;31mModuleNotFoundError\u001b[0m: No module named 'utils.params'; 'utils' is not a package"
     ]
    }
   ],
   "source": [
    "#Now test the dataset\n",
    "from utils.params import Params\n",
    "import dataset\n",
    "\n",
    "transforms = None\n",
    "params = Params(\"hparams.yaml\", \"DEFAULT\")\n",
    "train_data = dataset.CloudsDataset(params, transforms=None, root=\"Dataset/\",  split=\"train\")\n"
   ]
  },
  {
   "cell_type": "code",
   "execution_count": 50,
   "id": "8b40ab01-fb53-4a86-a7fa-e7eea630ace3",
   "metadata": {},
   "outputs": [
    {
     "name": "stderr",
     "output_type": "stream",
     "text": [
      "'ls' is not recognized as an internal or external command,\n",
      "operable program or batch file.\n"
     ]
    }
   ],
   "source": []
  },
  {
   "cell_type": "code",
   "execution_count": null,
   "id": "8515380f-b971-4653-8f74-fba96d11a4e9",
   "metadata": {},
   "outputs": [],
   "source": []
  }
 ],
 "metadata": {
  "kernelspec": {
   "display_name": "Python 3 (ipykernel)",
   "language": "python",
   "name": "python3"
  },
  "language_info": {
   "codemirror_mode": {
    "name": "ipython",
    "version": 3
   },
   "file_extension": ".py",
   "mimetype": "text/x-python",
   "name": "python",
   "nbconvert_exporter": "python",
   "pygments_lexer": "ipython3",
   "version": "3.11.5"
  }
 },
 "nbformat": 4,
 "nbformat_minor": 5
}
